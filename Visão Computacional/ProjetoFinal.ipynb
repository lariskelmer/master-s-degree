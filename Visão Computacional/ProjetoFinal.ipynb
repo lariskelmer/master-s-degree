{
  "nbformat": 4,
  "nbformat_minor": 0,
  "metadata": {
    "colab": {
      "name": "ProjetoFinal.ipynb",
      "provenance": [],
      "collapsed_sections": [],
      "authorship_tag": "ABX9TyOs5jOblQUonGUM5oKL8t90",
      "include_colab_link": true
    },
    "kernelspec": {
      "name": "python3",
      "display_name": "Python 3"
    },
    "language_info": {
      "name": "python"
    }
  },
  "cells": [
    {
      "cell_type": "markdown",
      "metadata": {
        "id": "view-in-github",
        "colab_type": "text"
      },
      "source": [
        "<a href=\"https://colab.research.google.com/github/lariskelmer/master-s-degree/blob/main/Vis%C3%A3o%20Computacional/ProjetoFinal.ipynb\" target=\"_parent\"><img src=\"https://colab.research.google.com/assets/colab-badge.svg\" alt=\"Open In Colab\"/></a>"
      ]
    },
    {
      "cell_type": "code",
      "metadata": {
        "id": "rlpkWUNuSvvM"
      },
      "source": [
        "#API DATASET: kaggle datasets download -d wobotintelligence/face-mask-detection-dataset"
      ],
      "execution_count": null,
      "outputs": []
    }
  ]
}